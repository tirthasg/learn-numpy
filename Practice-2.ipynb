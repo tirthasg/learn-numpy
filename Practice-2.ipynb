{
 "cells": [
  {
   "cell_type": "code",
   "execution_count": 1,
   "metadata": {},
   "outputs": [],
   "source": [
    "import numpy as np"
   ]
  },
  {
   "cell_type": "markdown",
   "metadata": {
    "id": "1uamk9vAix0o"
   },
   "source": [
    "###`Q-1:` Find the nearest element in the array to a given integer.\n",
    "```\n",
    "Ex:-\n",
    "a=23 and array - [10 17 24 31 38 45 52 59].\n",
    "Nearest element is 24\n",
    "```\n",
    "Hint: Read about this function `argmin()`"
   ]
  },
  {
   "cell_type": "code",
   "execution_count": 13,
   "metadata": {},
   "outputs": [
    {
     "data": {
      "text/plain": [
       "np.int64(24)"
      ]
     },
     "execution_count": 13,
     "metadata": {},
     "output_type": "execute_result"
    }
   ],
   "source": [
    "# Solution-1\n",
    "arr = np.arange(10, 60, 7)\n",
    "key = 24\n",
    "arr[np.argmin(np.abs(arr - key))]"
   ]
  },
  {
   "cell_type": "code",
   "execution_count": 14,
   "metadata": {},
   "outputs": [
    {
     "data": {
      "text/plain": [
       "np.int64(24)"
      ]
     },
     "execution_count": 14,
     "metadata": {},
     "output_type": "execute_result"
    }
   ],
   "source": [
    "# Solution-2\n",
    "arr[np.searchsorted(a=arr, v=key, side='left')]"
   ]
  },
  {
   "cell_type": "code",
   "execution_count": 28,
   "metadata": {},
   "outputs": [
    {
     "data": {
      "text/plain": [
       "np.float64(2.6315789473684212)"
      ]
     },
     "execution_count": 28,
     "metadata": {},
     "output_type": "execute_result"
    }
   ],
   "source": [
    "# Follow-up question: What if we had a higher dimensional ndarray?\n",
    "# Solution-1\n",
    "arr = np.linspace(\n",
    "    start=-10,\n",
    "    stop=10,\n",
    "    endpoint=True,\n",
    "    num=20,\n",
    "    dtype=np.float64,\n",
    "    retstep=False\n",
    ").reshape((4, 5))\n",
    "key = 2.13\n",
    "arr.flatten()[np.argmin(np.abs(arr - key))]"
   ]
  },
  {
   "cell_type": "code",
   "execution_count": 32,
   "metadata": {},
   "outputs": [
    {
     "data": {
      "text/plain": [
       "np.float64(2.6315789473684212)"
      ]
     },
     "execution_count": 32,
     "metadata": {},
     "output_type": "execute_result"
    }
   ],
   "source": [
    "# Solution-2\n",
    "arr.flatten()[np.searchsorted(a=arr.flatten(), v=key, side='left')]"
   ]
  },
  {
   "cell_type": "code",
   "execution_count": 35,
   "metadata": {},
   "outputs": [
    {
     "data": {
      "text/plain": [
       "np.float64(2.6315789473684212)"
      ]
     },
     "execution_count": 35,
     "metadata": {},
     "output_type": "execute_result"
    }
   ],
   "source": [
    "# Solution-3\n",
    "arr[np.unravel_index(np.searchsorted(a=np.ravel(arr), v=key, side='left'), arr.shape)]"
   ]
  },
  {
   "cell_type": "markdown",
   "metadata": {
    "id": "Y1QkHyPpizyp"
   },
   "source": [
    "###`Q-2:` Replace multiples of 3 or 5 as 0 in the given array.\n",
    "```\n",
    "arr=[1 2 3 4 5 6 7 9]\n",
    "\n",
    "result-> [1 2 0 4 0 0 7 0]\n",
    "```"
   ]
  },
  {
   "cell_type": "code",
   "execution_count": 41,
   "metadata": {
    "id": "JjtxMlhWi25l"
   },
   "outputs": [
    {
     "data": {
      "text/plain": [
       "array([1, 2, 0, 4, 0, 0, 7, 0])"
      ]
     },
     "execution_count": 41,
     "metadata": {},
     "output_type": "execute_result"
    }
   ],
   "source": [
    "# Solution\n",
    "arr = np.arange(1, 9)\n",
    "arr[-1] = 9\n",
    "mask = (arr % 3 == 0) | (arr % 5 == 0)\n",
    "arr[mask] = 0\n",
    "arr"
   ]
  },
  {
   "cell_type": "markdown",
   "metadata": {
    "id": "Pi_dZSwTi4OI"
   },
   "source": [
    "###`Q-3:` Use Fancy Indexing.\n",
    "1. Double the array elements at  given indexes\n",
    "```\n",
    "arr = np.arrange(10)\n",
    "indexes = [0,3,4,9]\n",
    "```\n",
    "Result -> `[ 0  1  2  6  8  5  6  7  8 18]`\n",
    "\n",
    "2. Using a given array make a different array as in below example\n",
    "```\n",
    "array = [1,2,3]\n",
    "result array -> [1 1 1 2 2 2 3 3 3]\n",
    "```\n",
    "* Internal-repetion should be as length of the array.\n",
    "\n",
    "Hint:\n",
    "```\n",
    "if a is an array\n",
    "a = [2,4]\n",
    "a[[1,1,0,1]] will result in-> [4 4 2 4]\n",
    "```"
   ]
  },
  {
   "cell_type": "code",
   "execution_count": 40,
   "metadata": {
    "id": "SHYuyuovi66N"
   },
   "outputs": [
    {
     "data": {
      "text/plain": [
       "array([ 0,  1,  2,  6,  8,  5,  6,  7,  8, 18])"
      ]
     },
     "execution_count": 40,
     "metadata": {},
     "output_type": "execute_result"
    }
   ],
   "source": [
    "# Solution to Part-1\n",
    "arr = np.arange(10)\n",
    "indexes = [0, 3, 4, 9]\n",
    "arr[indexes] *= 2\n",
    "arr"
   ]
  },
  {
   "cell_type": "code",
   "execution_count": 43,
   "metadata": {},
   "outputs": [
    {
     "data": {
      "text/plain": [
       "array([1, 1, 1, 2, 2, 2, 3, 3, 3])"
      ]
     },
     "execution_count": 43,
     "metadata": {},
     "output_type": "execute_result"
    }
   ],
   "source": [
    "# Solution to Part-2\n",
    "arr = np.arange(1, 4)\n",
    "np.repeat(a=arr, repeats=arr.size)"
   ]
  },
  {
   "cell_type": "code",
   "execution_count": 45,
   "metadata": {},
   "outputs": [
    {
     "data": {
      "text/plain": [
       "array([1, 1, 1, 2, 2, 2, 3, 3, 3])"
      ]
     },
     "execution_count": 45,
     "metadata": {},
     "output_type": "execute_result"
    }
   ],
   "source": [
    "# Alternative solution to Part-2\n",
    "arr = np.arange(1, 4)\n",
    "indexes = [0, 0, 0, 1, 1, 1, 2, 2, 2]\n",
    "arr[indexes]"
   ]
  },
  {
   "cell_type": "markdown",
   "metadata": {
    "id": "UDehG0tFi89i"
   },
   "source": [
    "###`Q-4:` Your are given an array which is havig some nan value. You job is to fill those nan values with most common element in the array.\n",
    "```\n",
    "arr=np.array([[1,2,np.nan],[4,2,6],[np.nan,np.nan,5]])\n",
    "\n",
    "```"
   ]
  },
  {
   "cell_type": "code",
   "execution_count": 49,
   "metadata": {
    "id": "YH13A6w9jEyu"
   },
   "outputs": [
    {
     "data": {
      "text/plain": [
       "array([[1., 2., 2.],\n",
       "       [4., 2., 6.],\n",
       "       [2., 2., 5.]])"
      ]
     },
     "execution_count": 49,
     "metadata": {},
     "output_type": "execute_result"
    }
   ],
   "source": [
    "# Solution\n",
    "arr = np.array(\n",
    "    [\n",
    "        [1, 2, np.nan],\n",
    "        [4, 2, 6],\n",
    "        [np.nan, np.nan, 5]\n",
    "    ]\n",
    ")\n",
    "mask = np.isnan(arr)\n",
    "arr[mask] = 2\n",
    "arr"
   ]
  },
  {
   "cell_type": "code",
   "execution_count": 67,
   "metadata": {},
   "outputs": [
    {
     "data": {
      "text/plain": [
       "array([[1., 2., 2.],\n",
       "       [4., 2., 6.],\n",
       "       [2., 2., 5.]])"
      ]
     },
     "execution_count": 67,
     "metadata": {},
     "output_type": "execute_result"
    }
   ],
   "source": [
    "# Alternative solution (More flexible)\n",
    "arr = np.array(\n",
    "    [\n",
    "        [1, 2, np.nan],\n",
    "        [4, 2, 6],\n",
    "        [np.nan, np.nan, 5]\n",
    "    ]\n",
    ")\n",
    "uniques, indexes, inverses, counts = np.unique(arr, return_index=True, return_inverse=True, return_counts=True, equal_nan=False)\n",
    "value = uniques[np.argmax(counts)]\n",
    "mask = np.isnan(arr)\n",
    "arr[mask] = value\n",
    "arr"
   ]
  },
  {
   "cell_type": "code",
   "execution_count": 54,
   "metadata": {
    "scrolled": true
   },
   "outputs": [
    {
     "data": {
      "text/plain": [
       "\u001b[0;31mSignature:\u001b[0m      \n",
       "\u001b[0mnp\u001b[0m\u001b[0;34m.\u001b[0m\u001b[0munique\u001b[0m\u001b[0;34m(\u001b[0m\u001b[0;34m\u001b[0m\n",
       "\u001b[0;34m\u001b[0m    \u001b[0mar\u001b[0m\u001b[0;34m,\u001b[0m\u001b[0;34m\u001b[0m\n",
       "\u001b[0;34m\u001b[0m    \u001b[0mreturn_index\u001b[0m\u001b[0;34m=\u001b[0m\u001b[0;32mFalse\u001b[0m\u001b[0;34m,\u001b[0m\u001b[0;34m\u001b[0m\n",
       "\u001b[0;34m\u001b[0m    \u001b[0mreturn_inverse\u001b[0m\u001b[0;34m=\u001b[0m\u001b[0;32mFalse\u001b[0m\u001b[0;34m,\u001b[0m\u001b[0;34m\u001b[0m\n",
       "\u001b[0;34m\u001b[0m    \u001b[0mreturn_counts\u001b[0m\u001b[0;34m=\u001b[0m\u001b[0;32mFalse\u001b[0m\u001b[0;34m,\u001b[0m\u001b[0;34m\u001b[0m\n",
       "\u001b[0;34m\u001b[0m    \u001b[0maxis\u001b[0m\u001b[0;34m=\u001b[0m\u001b[0;32mNone\u001b[0m\u001b[0;34m,\u001b[0m\u001b[0;34m\u001b[0m\n",
       "\u001b[0;34m\u001b[0m    \u001b[0;34m*\u001b[0m\u001b[0;34m,\u001b[0m\u001b[0;34m\u001b[0m\n",
       "\u001b[0;34m\u001b[0m    \u001b[0mequal_nan\u001b[0m\u001b[0;34m=\u001b[0m\u001b[0;32mTrue\u001b[0m\u001b[0;34m,\u001b[0m\u001b[0;34m\u001b[0m\n",
       "\u001b[0;34m\u001b[0m\u001b[0;34m)\u001b[0m\u001b[0;34m\u001b[0m\u001b[0;34m\u001b[0m\u001b[0m\n",
       "\u001b[0;31mCall signature:\u001b[0m  \u001b[0mnp\u001b[0m\u001b[0;34m.\u001b[0m\u001b[0munique\u001b[0m\u001b[0;34m(\u001b[0m\u001b[0;34m*\u001b[0m\u001b[0margs\u001b[0m\u001b[0;34m,\u001b[0m \u001b[0;34m**\u001b[0m\u001b[0mkwargs\u001b[0m\u001b[0;34m)\u001b[0m\u001b[0;34m\u001b[0m\u001b[0;34m\u001b[0m\u001b[0m\n",
       "\u001b[0;31mType:\u001b[0m            _ArrayFunctionDispatcher\n",
       "\u001b[0;31mString form:\u001b[0m     <function unique at 0x7018d40ff1a0>\n",
       "\u001b[0;31mFile:\u001b[0m            ~/Desktop/learn-numpy/venv/lib/python3.12/site-packages/numpy/lib/_arraysetops_impl.py\n",
       "\u001b[0;31mDocstring:\u001b[0m      \n",
       "Find the unique elements of an array.\n",
       "\n",
       "Returns the sorted unique elements of an array. There are three optional\n",
       "outputs in addition to the unique elements:\n",
       "\n",
       "* the indices of the input array that give the unique values\n",
       "* the indices of the unique array that reconstruct the input array\n",
       "* the number of times each unique value comes up in the input array\n",
       "\n",
       "Parameters\n",
       "----------\n",
       "ar : array_like\n",
       "    Input array. Unless `axis` is specified, this will be flattened if it\n",
       "    is not already 1-D.\n",
       "return_index : bool, optional\n",
       "    If True, also return the indices of `ar` (along the specified axis,\n",
       "    if provided, or in the flattened array) that result in the unique array.\n",
       "return_inverse : bool, optional\n",
       "    If True, also return the indices of the unique array (for the specified\n",
       "    axis, if provided) that can be used to reconstruct `ar`.\n",
       "return_counts : bool, optional\n",
       "    If True, also return the number of times each unique item appears\n",
       "    in `ar`.\n",
       "axis : int or None, optional\n",
       "    The axis to operate on. If None, `ar` will be flattened. If an integer,\n",
       "    the subarrays indexed by the given axis will be flattened and treated\n",
       "    as the elements of a 1-D array with the dimension of the given axis,\n",
       "    see the notes for more details.  Object arrays or structured arrays\n",
       "    that contain objects are not supported if the `axis` kwarg is used. The\n",
       "    default is None.\n",
       "\n",
       "    .. versionadded:: 1.13.0\n",
       "\n",
       "equal_nan : bool, optional\n",
       "    If True, collapses multiple NaN values in the return array into one.\n",
       "\n",
       "    .. versionadded:: 1.24\n",
       "\n",
       "Returns\n",
       "-------\n",
       "unique : ndarray\n",
       "    The sorted unique values.\n",
       "unique_indices : ndarray, optional\n",
       "    The indices of the first occurrences of the unique values in the\n",
       "    original array. Only provided if `return_index` is True.\n",
       "unique_inverse : ndarray, optional\n",
       "    The indices to reconstruct the original array from the\n",
       "    unique array. Only provided if `return_inverse` is True.\n",
       "unique_counts : ndarray, optional\n",
       "    The number of times each of the unique values comes up in the\n",
       "    original array. Only provided if `return_counts` is True.\n",
       "\n",
       "    .. versionadded:: 1.9.0\n",
       "\n",
       "See Also\n",
       "--------\n",
       "repeat : Repeat elements of an array.\n",
       "\n",
       "Notes\n",
       "-----\n",
       "When an axis is specified the subarrays indexed by the axis are sorted.\n",
       "This is done by making the specified axis the first dimension of the array\n",
       "(move the axis to the first dimension to keep the order of the other axes)\n",
       "and then flattening the subarrays in C order. The flattened subarrays are\n",
       "then viewed as a structured type with each element given a label, with the\n",
       "effect that we end up with a 1-D array of structured types that can be\n",
       "treated in the same way as any other 1-D array. The result is that the\n",
       "flattened subarrays are sorted in lexicographic order starting with the\n",
       "first element.\n",
       "\n",
       ".. versionchanged: 1.21\n",
       "    If nan values are in the input array, a single nan is put\n",
       "    to the end of the sorted unique values.\n",
       "\n",
       "    Also for complex arrays all NaN values are considered equivalent\n",
       "    (no matter whether the NaN is in the real or imaginary part).\n",
       "    As the representant for the returned array the smallest one in the\n",
       "    lexicographical order is chosen - see np.sort for how the lexicographical\n",
       "    order is defined for complex arrays.\n",
       "\n",
       ".. versionchanged: 2.0\n",
       "    For multi-dimensional inputs, ``unique_inverse`` is reshaped\n",
       "    such that the input can be reconstructed using\n",
       "    ``np.take(unique, unique_inverse, axis=axis)``. The result is\n",
       "    now not 1-dimensional when ``axis=None``.\n",
       "\n",
       "    Note that in NumPy 2.0.0 a higher dimensional array was returned also\n",
       "    when ``axis`` was not ``None``.  This was reverted, but\n",
       "    ``inverse.reshape(-1)`` can be used to ensure compatibility with both\n",
       "    versions.\n",
       "\n",
       "Examples\n",
       "--------\n",
       ">>> import numpy as np\n",
       ">>> np.unique([1, 1, 2, 2, 3, 3])\n",
       "array([1, 2, 3])\n",
       ">>> a = np.array([[1, 1], [2, 3]])\n",
       ">>> np.unique(a)\n",
       "array([1, 2, 3])\n",
       "\n",
       "Return the unique rows of a 2D array\n",
       "\n",
       ">>> a = np.array([[1, 0, 0], [1, 0, 0], [2, 3, 4]])\n",
       ">>> np.unique(a, axis=0)\n",
       "array([[1, 0, 0], [2, 3, 4]])\n",
       "\n",
       "Return the indices of the original array that give the unique values:\n",
       "\n",
       ">>> a = np.array(['a', 'b', 'b', 'c', 'a'])\n",
       ">>> u, indices = np.unique(a, return_index=True)\n",
       ">>> u\n",
       "array(['a', 'b', 'c'], dtype='<U1')\n",
       ">>> indices\n",
       "array([0, 1, 3])\n",
       ">>> a[indices]\n",
       "array(['a', 'b', 'c'], dtype='<U1')\n",
       "\n",
       "Reconstruct the input array from the unique values and inverse:\n",
       "\n",
       ">>> a = np.array([1, 2, 6, 4, 2, 3, 2])\n",
       ">>> u, indices = np.unique(a, return_inverse=True)\n",
       ">>> u\n",
       "array([1, 2, 3, 4, 6])\n",
       ">>> indices\n",
       "array([0, 1, 4, 3, 1, 2, 1])\n",
       ">>> u[indices]\n",
       "array([1, 2, 6, 4, 2, 3, 2])\n",
       "\n",
       "Reconstruct the input values from the unique values and counts:\n",
       "\n",
       ">>> a = np.array([1, 2, 6, 4, 2, 3, 2])\n",
       ">>> values, counts = np.unique(a, return_counts=True)\n",
       ">>> values\n",
       "array([1, 2, 3, 4, 6])\n",
       ">>> counts\n",
       "array([1, 3, 1, 1, 1])\n",
       ">>> np.repeat(values, counts)\n",
       "array([1, 2, 2, 2, 3, 4, 6])    # original order not preserved\n",
       "\u001b[0;31mClass docstring:\u001b[0m\n",
       "Class to wrap functions with checks for __array_function__ overrides.\n",
       "\n",
       "All arguments are required, and can only be passed by position.\n",
       "\n",
       "Parameters\n",
       "----------\n",
       "dispatcher : function or None\n",
       "    The dispatcher function that returns a single sequence-like object\n",
       "    of all arguments relevant.  It must have the same signature (except\n",
       "    the default values) as the actual implementation.\n",
       "    If ``None``, this is a ``like=`` dispatcher and the\n",
       "    ``_ArrayFunctionDispatcher`` must be called with ``like`` as the\n",
       "    first (additional and positional) argument.\n",
       "implementation : function\n",
       "    Function that implements the operation on NumPy arrays without\n",
       "    overrides.  Arguments passed calling the ``_ArrayFunctionDispatcher``\n",
       "    will be forwarded to this (and the ``dispatcher``) as if using\n",
       "    ``*args, **kwargs``.\n",
       "\n",
       "Attributes\n",
       "----------\n",
       "_implementation : function\n",
       "    The original implementation passed in."
      ]
     },
     "metadata": {},
     "output_type": "display_data"
    }
   ],
   "source": [
    "np.unique?"
   ]
  },
  {
   "cell_type": "markdown",
   "metadata": {
    "id": "Tk2JnioUjJ_t"
   },
   "source": [
    "### `Q-5:` Write a NumPy program\n",
    "\n",
    "- to find the missing data in a given array. Return a boolean matrix.\n",
    "- also try to fill those missing values with 0. For that, you can use `np.nan_to_num(a)`\n",
    "\n",
    "```python\n",
    "import numpy as np\n",
    "\n",
    "np.array([[3, 2, np.nan, 1],\n",
    "          [10, 12, 10, 9],\n",
    "          [5, np.nan, 1, np.nan]])\n",
    "```"
   ]
  },
  {
   "cell_type": "code",
   "execution_count": 74,
   "metadata": {},
   "outputs": [
    {
     "data": {
      "text/plain": [
       "array([[ 3.,  2.,  0.,  1.],\n",
       "       [10., 12., 10.,  9.],\n",
       "       [ 5.,  0.,  1.,  0.]])"
      ]
     },
     "execution_count": 74,
     "metadata": {},
     "output_type": "execute_result"
    }
   ],
   "source": [
    "# Solution-1\n",
    "arr = np.array(\n",
    "    [\n",
    "        [3, 2, np.nan, 1],\n",
    "        [10, 12, 10, 9],\n",
    "        [5, np.nan, 1, np.nan]\n",
    "    ]\n",
    ")\n",
    "mask = np.isnan(arr)\n",
    "arr[mask] = 0\n",
    "arr"
   ]
  },
  {
   "cell_type": "code",
   "execution_count": null,
   "metadata": {},
   "outputs": [],
   "source": [
    "# Solution-2\n",
    "arr = np.array(\n",
    "    [\n",
    "        [3, 2, np.nan, 1],\n",
    "        [10, 12, 10, 9],\n",
    "        [5, np.nan, 1, np.nan]\n",
    "    ]\n",
    ")"
   ]
  },
  {
   "cell_type": "code",
   "execution_count": 68,
   "metadata": {
    "id": "nPEBTQJ_jJZe"
   },
   "outputs": [
    {
     "data": {
      "text/plain": [
       "\u001b[0;31mSignature:\u001b[0m       \u001b[0mnp\u001b[0m\u001b[0;34m.\u001b[0m\u001b[0mnan_to_num\u001b[0m\u001b[0;34m(\u001b[0m\u001b[0mx\u001b[0m\u001b[0;34m,\u001b[0m \u001b[0mcopy\u001b[0m\u001b[0;34m=\u001b[0m\u001b[0;32mTrue\u001b[0m\u001b[0;34m,\u001b[0m \u001b[0mnan\u001b[0m\u001b[0;34m=\u001b[0m\u001b[0;36m0.0\u001b[0m\u001b[0;34m,\u001b[0m \u001b[0mposinf\u001b[0m\u001b[0;34m=\u001b[0m\u001b[0;32mNone\u001b[0m\u001b[0;34m,\u001b[0m \u001b[0mneginf\u001b[0m\u001b[0;34m=\u001b[0m\u001b[0;32mNone\u001b[0m\u001b[0;34m)\u001b[0m\u001b[0;34m\u001b[0m\u001b[0;34m\u001b[0m\u001b[0m\n",
       "\u001b[0;31mCall signature:\u001b[0m  \u001b[0mnp\u001b[0m\u001b[0;34m.\u001b[0m\u001b[0mnan_to_num\u001b[0m\u001b[0;34m(\u001b[0m\u001b[0;34m*\u001b[0m\u001b[0margs\u001b[0m\u001b[0;34m,\u001b[0m \u001b[0;34m**\u001b[0m\u001b[0mkwargs\u001b[0m\u001b[0;34m)\u001b[0m\u001b[0;34m\u001b[0m\u001b[0;34m\u001b[0m\u001b[0m\n",
       "\u001b[0;31mType:\u001b[0m            _ArrayFunctionDispatcher\n",
       "\u001b[0;31mString form:\u001b[0m     <function nan_to_num at 0x7018cf5258a0>\n",
       "\u001b[0;31mFile:\u001b[0m            ~/Desktop/learn-numpy/venv/lib/python3.12/site-packages/numpy/lib/_type_check_impl.py\n",
       "\u001b[0;31mDocstring:\u001b[0m      \n",
       "Replace NaN with zero and infinity with large finite numbers (default\n",
       "behaviour) or with the numbers defined by the user using the `nan`,\n",
       "`posinf` and/or `neginf` keywords.\n",
       "\n",
       "If `x` is inexact, NaN is replaced by zero or by the user defined value in\n",
       "`nan` keyword, infinity is replaced by the largest finite floating point\n",
       "values representable by ``x.dtype`` or by the user defined value in\n",
       "`posinf` keyword and -infinity is replaced by the most negative finite\n",
       "floating point values representable by ``x.dtype`` or by the user defined\n",
       "value in `neginf` keyword.\n",
       "\n",
       "For complex dtypes, the above is applied to each of the real and\n",
       "imaginary components of `x` separately.\n",
       "\n",
       "If `x` is not inexact, then no replacements are made.\n",
       "\n",
       "Parameters\n",
       "----------\n",
       "x : scalar or array_like\n",
       "    Input data.\n",
       "copy : bool, optional\n",
       "    Whether to create a copy of `x` (True) or to replace values\n",
       "    in-place (False). The in-place operation only occurs if\n",
       "    casting to an array does not require a copy.\n",
       "    Default is True.\n",
       "\n",
       "    .. versionadded:: 1.13\n",
       "nan : int, float, optional\n",
       "    Value to be used to fill NaN values. If no value is passed\n",
       "    then NaN values will be replaced with 0.0.\n",
       "\n",
       "    .. versionadded:: 1.17\n",
       "posinf : int, float, optional\n",
       "    Value to be used to fill positive infinity values. If no value is\n",
       "    passed then positive infinity values will be replaced with a very\n",
       "    large number.\n",
       "\n",
       "    .. versionadded:: 1.17\n",
       "neginf : int, float, optional\n",
       "    Value to be used to fill negative infinity values. If no value is\n",
       "    passed then negative infinity values will be replaced with a very\n",
       "    small (or negative) number.\n",
       "\n",
       "    .. versionadded:: 1.17\n",
       "\n",
       "\n",
       "\n",
       "Returns\n",
       "-------\n",
       "out : ndarray\n",
       "    `x`, with the non-finite values replaced. If `copy` is False, this may\n",
       "    be `x` itself.\n",
       "\n",
       "See Also\n",
       "--------\n",
       "isinf : Shows which elements are positive or negative infinity.\n",
       "isneginf : Shows which elements are negative infinity.\n",
       "isposinf : Shows which elements are positive infinity.\n",
       "isnan : Shows which elements are Not a Number (NaN).\n",
       "isfinite : Shows which elements are finite (not NaN, not infinity)\n",
       "\n",
       "Notes\n",
       "-----\n",
       "NumPy uses the IEEE Standard for Binary Floating-Point for Arithmetic\n",
       "(IEEE 754). This means that Not a Number is not equivalent to infinity.\n",
       "\n",
       "Examples\n",
       "--------\n",
       ">>> import numpy as np\n",
       ">>> np.nan_to_num(np.inf)\n",
       "1.7976931348623157e+308\n",
       ">>> np.nan_to_num(-np.inf)\n",
       "-1.7976931348623157e+308\n",
       ">>> np.nan_to_num(np.nan)\n",
       "0.0\n",
       ">>> x = np.array([np.inf, -np.inf, np.nan, -128, 128])\n",
       ">>> np.nan_to_num(x)\n",
       "array([ 1.79769313e+308, -1.79769313e+308,  0.00000000e+000, # may vary\n",
       "       -1.28000000e+002,  1.28000000e+002])\n",
       ">>> np.nan_to_num(x, nan=-9999, posinf=33333333, neginf=33333333)\n",
       "array([ 3.3333333e+07,  3.3333333e+07, -9.9990000e+03,\n",
       "       -1.2800000e+02,  1.2800000e+02])\n",
       ">>> y = np.array([complex(np.inf, np.nan), np.nan, complex(np.nan, np.inf)])\n",
       "array([  1.79769313e+308,  -1.79769313e+308,   0.00000000e+000, # may vary\n",
       "     -1.28000000e+002,   1.28000000e+002])\n",
       ">>> np.nan_to_num(y)\n",
       "array([  1.79769313e+308 +0.00000000e+000j, # may vary\n",
       "         0.00000000e+000 +0.00000000e+000j,\n",
       "         0.00000000e+000 +1.79769313e+308j])\n",
       ">>> np.nan_to_num(y, nan=111111, posinf=222222)\n",
       "array([222222.+111111.j, 111111.     +0.j, 111111.+222222.j])\n",
       "\u001b[0;31mClass docstring:\u001b[0m\n",
       "Class to wrap functions with checks for __array_function__ overrides.\n",
       "\n",
       "All arguments are required, and can only be passed by position.\n",
       "\n",
       "Parameters\n",
       "----------\n",
       "dispatcher : function or None\n",
       "    The dispatcher function that returns a single sequence-like object\n",
       "    of all arguments relevant.  It must have the same signature (except\n",
       "    the default values) as the actual implementation.\n",
       "    If ``None``, this is a ``like=`` dispatcher and the\n",
       "    ``_ArrayFunctionDispatcher`` must be called with ``like`` as the\n",
       "    first (additional and positional) argument.\n",
       "implementation : function\n",
       "    Function that implements the operation on NumPy arrays without\n",
       "    overrides.  Arguments passed calling the ``_ArrayFunctionDispatcher``\n",
       "    will be forwarded to this (and the ``dispatcher``) as if using\n",
       "    ``*args, **kwargs``.\n",
       "\n",
       "Attributes\n",
       "----------\n",
       "_implementation : function\n",
       "    The original implementation passed in."
      ]
     },
     "metadata": {},
     "output_type": "display_data"
    }
   ],
   "source": [
    "np.nan_to_num?"
   ]
  },
  {
   "cell_type": "markdown",
   "metadata": {
    "id": "FFUnZtG7jNBH"
   },
   "source": [
    "###`Q-6:` Given two arrays, X and Y, construct the Cauchy matrix C.\n",
    "`Cij =1/(xi - yj)`\n",
    "\n",
    "http://en.wikipedia.org/wiki/Cauchy_matrix\n",
    "```\n",
    "x = numpy.array([1,2,3,4]).reshape((-1, 1)\n",
    "y = numpy.array([5,6,7])\n",
    "```"
   ]
  },
  {
   "cell_type": "code",
   "execution_count": null,
   "metadata": {
    "id": "pQXHa38TjVEh"
   },
   "outputs": [],
   "source": [
    "# code here"
   ]
  },
  {
   "cell_type": "markdown",
   "metadata": {
    "id": "EbkHZCF1jWNc"
   },
   "source": [
    "###`Q-7:` Plot this below equation.\n",
    "\n",
    "$$\\large y = \\frac{e^x - e^{-x}}{e^x + e^{-x}}$$\n",
    "\n",
    "**Note: This equation is called tanh activation function. In deep learning, many times this function is used. If you find some difference between the sigmoid function and this tanh function, note that to your notebook.**"
   ]
  },
  {
   "cell_type": "code",
   "execution_count": null,
   "metadata": {
    "id": "n6OcN--FjbLC"
   },
   "outputs": [],
   "source": [
    "# code here"
   ]
  },
  {
   "cell_type": "markdown",
   "metadata": {
    "id": "xujS-pu4jciH"
   },
   "source": [
    "### `Q-8:` Plot the below equation.\n",
    "\n",
    "$$\\large y = \\sqrt{36 - (x - 4)^2} + 2$$\n",
    "\n",
    "The range of x should be between -2 to 10. $x ∈ [-2, 10]$\n",
    "\n"
   ]
  },
  {
   "cell_type": "code",
   "execution_count": null,
   "metadata": {
    "id": "7CagwKP_jhIQ"
   },
   "outputs": [],
   "source": [
    "# code here"
   ]
  },
  {
   "cell_type": "markdown",
   "metadata": {
    "id": "Jf14pxCfjiX1"
   },
   "source": [
    "### `Q-9:` Write a program implement Boradcasting Rule to check if two array can be added or not.\n",
    "Given tuples of shapes.\n",
    "```\n",
    "shape of a- (3,2,2)\n",
    "shape of b- (2,2)\n",
    "\n",
    "check_broadcast(a, b) -> return Boolean (True if can broadcasted, False other wise.)\n",
    "```"
   ]
  },
  {
   "cell_type": "code",
   "execution_count": null,
   "metadata": {
    "id": "qSKGG0Yajlc8"
   },
   "outputs": [],
   "source": [
    "# code here"
   ]
  }
 ],
 "metadata": {
  "colab": {
   "provenance": []
  },
  "kernelspec": {
   "display_name": "Python 3 (ipykernel)",
   "language": "python",
   "name": "python3"
  },
  "language_info": {
   "codemirror_mode": {
    "name": "ipython",
    "version": 3
   },
   "file_extension": ".py",
   "mimetype": "text/x-python",
   "name": "python",
   "nbconvert_exporter": "python",
   "pygments_lexer": "ipython3",
   "version": "3.12.3"
  }
 },
 "nbformat": 4,
 "nbformat_minor": 4
}
