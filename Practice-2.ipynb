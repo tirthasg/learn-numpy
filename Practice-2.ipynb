{
 "cells": [
  {
   "cell_type": "code",
   "execution_count": 1,
   "metadata": {},
   "outputs": [],
   "source": [
    "import numpy as np"
   ]
  },
  {
   "cell_type": "markdown",
   "metadata": {
    "id": "1uamk9vAix0o"
   },
   "source": [
    "###`Q-1:` Find the nearest element in the array to a given integer.\n",
    "```\n",
    "Ex:-\n",
    "a=23 and array - [10 17 24 31 38 45 52 59].\n",
    "Nearest element is 24\n",
    "```\n",
    "Hint: Read about this function `argmin()`"
   ]
  },
  {
   "cell_type": "code",
   "execution_count": 13,
   "metadata": {},
   "outputs": [
    {
     "data": {
      "text/plain": [
       "np.int64(24)"
      ]
     },
     "execution_count": 13,
     "metadata": {},
     "output_type": "execute_result"
    }
   ],
   "source": [
    "# Solution-1\n",
    "arr = np.arange(10, 60, 7)\n",
    "key = 24\n",
    "arr[np.argmin(np.abs(arr - key))]"
   ]
  },
  {
   "cell_type": "code",
   "execution_count": 14,
   "metadata": {},
   "outputs": [
    {
     "data": {
      "text/plain": [
       "np.int64(24)"
      ]
     },
     "execution_count": 14,
     "metadata": {},
     "output_type": "execute_result"
    }
   ],
   "source": [
    "# Solution-2\n",
    "arr[np.searchsorted(a=arr, v=key, side='left')]"
   ]
  },
  {
   "cell_type": "code",
   "execution_count": 28,
   "metadata": {},
   "outputs": [
    {
     "data": {
      "text/plain": [
       "np.float64(2.6315789473684212)"
      ]
     },
     "execution_count": 28,
     "metadata": {},
     "output_type": "execute_result"
    }
   ],
   "source": [
    "# Follow-up question: What if we had a higher dimensional ndarray?\n",
    "# Solution-1\n",
    "arr = np.linspace(\n",
    "    start=-10,\n",
    "    stop=10,\n",
    "    endpoint=True,\n",
    "    num=20,\n",
    "    dtype=np.float64,\n",
    "    retstep=False\n",
    ").reshape((4, 5))\n",
    "key = 2.13\n",
    "arr.flatten()[np.argmin(np.abs(arr - key))]"
   ]
  },
  {
   "cell_type": "code",
   "execution_count": 32,
   "metadata": {},
   "outputs": [
    {
     "data": {
      "text/plain": [
       "np.float64(2.6315789473684212)"
      ]
     },
     "execution_count": 32,
     "metadata": {},
     "output_type": "execute_result"
    }
   ],
   "source": [
    "# Solution-2\n",
    "arr.flatten()[np.searchsorted(a=arr.flatten(), v=key, side='left')]"
   ]
  },
  {
   "cell_type": "code",
   "execution_count": 35,
   "metadata": {},
   "outputs": [
    {
     "data": {
      "text/plain": [
       "np.float64(2.6315789473684212)"
      ]
     },
     "execution_count": 35,
     "metadata": {},
     "output_type": "execute_result"
    }
   ],
   "source": [
    "# Solution-3\n",
    "arr[np.unravel_index(np.searchsorted(a=np.ravel(arr), v=key, side='left'), arr.shape)]"
   ]
  },
  {
   "cell_type": "markdown",
   "metadata": {
    "id": "Y1QkHyPpizyp"
   },
   "source": [
    "###`Q-2:` Replace multiples of 3 or 5 as 0 in the given array.\n",
    "```\n",
    "arr=[1 2 3 4 5 6 7 9]\n",
    "\n",
    "result-> [1 2 0 4 0 0 7 0]\n",
    "```"
   ]
  },
  {
   "cell_type": "code",
   "execution_count": 41,
   "metadata": {
    "id": "JjtxMlhWi25l"
   },
   "outputs": [
    {
     "data": {
      "text/plain": [
       "array([1, 2, 0, 4, 0, 0, 7, 0])"
      ]
     },
     "execution_count": 41,
     "metadata": {},
     "output_type": "execute_result"
    }
   ],
   "source": [
    "# Solution\n",
    "arr = np.arange(1, 9)\n",
    "arr[-1] = 9\n",
    "mask = (arr % 3 == 0) | (arr % 5 == 0)\n",
    "arr[mask] = 0\n",
    "arr"
   ]
  },
  {
   "cell_type": "markdown",
   "metadata": {
    "id": "Pi_dZSwTi4OI"
   },
   "source": [
    "###`Q-3:` Use Fancy Indexing.\n",
    "1. Double the array elements at  given indexes\n",
    "```\n",
    "arr = np.arrange(10)\n",
    "indexes = [0,3,4,9]\n",
    "```\n",
    "Result -> `[ 0  1  2  6  8  5  6  7  8 18]`\n",
    "\n",
    "2. Using a given array make a different array as in below example\n",
    "```\n",
    "array = [1,2,3]\n",
    "result array -> [1 1 1 2 2 2 3 3 3]\n",
    "```\n",
    "* Internal-repetion should be as length of the array.\n",
    "\n",
    "Hint:\n",
    "```\n",
    "if a is an array\n",
    "a = [2,4]\n",
    "a[[1,1,0,1]] will result in-> [4 4 2 4]\n",
    "```"
   ]
  },
  {
   "cell_type": "code",
   "execution_count": 40,
   "metadata": {
    "id": "SHYuyuovi66N"
   },
   "outputs": [
    {
     "data": {
      "text/plain": [
       "array([ 0,  1,  2,  6,  8,  5,  6,  7,  8, 18])"
      ]
     },
     "execution_count": 40,
     "metadata": {},
     "output_type": "execute_result"
    }
   ],
   "source": [
    "# Solution to Part-1\n",
    "arr = np.arange(10)\n",
    "indexes = [0, 3, 4, 9]\n",
    "arr[indexes] *= 2\n",
    "arr"
   ]
  },
  {
   "cell_type": "code",
   "execution_count": 43,
   "metadata": {},
   "outputs": [
    {
     "data": {
      "text/plain": [
       "array([1, 1, 1, 2, 2, 2, 3, 3, 3])"
      ]
     },
     "execution_count": 43,
     "metadata": {},
     "output_type": "execute_result"
    }
   ],
   "source": [
    "# Solution to Part-2\n",
    "arr = np.arange(1, 4)\n",
    "np.repeat(a=arr, repeats=arr.size)"
   ]
  },
  {
   "cell_type": "code",
   "execution_count": 45,
   "metadata": {},
   "outputs": [
    {
     "data": {
      "text/plain": [
       "array([1, 1, 1, 2, 2, 2, 3, 3, 3])"
      ]
     },
     "execution_count": 45,
     "metadata": {},
     "output_type": "execute_result"
    }
   ],
   "source": [
    "# Alternative solution to Part-2\n",
    "arr = np.arange(1, 4)\n",
    "indexes = [0, 0, 0, 1, 1, 1, 2, 2, 2]\n",
    "arr[indexes]"
   ]
  },
  {
   "cell_type": "markdown",
   "metadata": {
    "id": "UDehG0tFi89i"
   },
   "source": [
    "###`Q-4:` Your are given an array which is havig some nan value. You job is to fill those nan values with most common element in the array.\n",
    "```\n",
    "arr=np.array([[1,2,np.nan],[4,2,6],[np.nan,np.nan,5]])\n",
    "\n",
    "```"
   ]
  },
  {
   "cell_type": "code",
   "execution_count": null,
   "metadata": {
    "id": "YH13A6w9jEyu"
   },
   "outputs": [],
   "source": [
    "# code here"
   ]
  },
  {
   "cell_type": "markdown",
   "metadata": {
    "id": "Tk2JnioUjJ_t"
   },
   "source": [
    "### `Q-5:` Write a NumPy program\n",
    "\n",
    "- to find the missing data in a given array. Return a boolean matrix.\n",
    "- also try to fill those missing values with 0. For that, you can use `np.nan_to_num(a)`\n",
    "\n",
    "```python\n",
    "import numpy as np\n",
    "\n",
    "np.array([[3, 2, np.nan, 1],\n",
    "          [10, 12, 10, 9],\n",
    "          [5, np.nan, 1, np.nan]])\n",
    "```"
   ]
  },
  {
   "cell_type": "code",
   "execution_count": null,
   "metadata": {
    "id": "nPEBTQJ_jJZe"
   },
   "outputs": [],
   "source": [
    "# code here"
   ]
  },
  {
   "cell_type": "markdown",
   "metadata": {
    "id": "FFUnZtG7jNBH"
   },
   "source": [
    "###`Q-6:` Given two arrays, X and Y, construct the Cauchy matrix C.\n",
    "`Cij =1/(xi - yj)`\n",
    "\n",
    "http://en.wikipedia.org/wiki/Cauchy_matrix\n",
    "```\n",
    "x = numpy.array([1,2,3,4]).reshape((-1, 1)\n",
    "y = numpy.array([5,6,7])\n",
    "```"
   ]
  },
  {
   "cell_type": "code",
   "execution_count": null,
   "metadata": {
    "id": "pQXHa38TjVEh"
   },
   "outputs": [],
   "source": [
    "# code here"
   ]
  },
  {
   "cell_type": "markdown",
   "metadata": {
    "id": "EbkHZCF1jWNc"
   },
   "source": [
    "###`Q-7:` Plot this below equation.\n",
    "\n",
    "$$\\large y = \\frac{e^x - e^{-x}}{e^x + e^{-x}}$$\n",
    "\n",
    "**Note: This equation is called tanh activation function. In deep learning, many times this function is used. If you find some difference between the sigmoid function and this tanh function, note that to your notebook.**"
   ]
  },
  {
   "cell_type": "code",
   "execution_count": null,
   "metadata": {
    "id": "n6OcN--FjbLC"
   },
   "outputs": [],
   "source": [
    "# code here"
   ]
  },
  {
   "cell_type": "markdown",
   "metadata": {
    "id": "xujS-pu4jciH"
   },
   "source": [
    "### `Q-8:` Plot the below equation.\n",
    "\n",
    "$$\\large y = \\sqrt{36 - (x - 4)^2} + 2$$\n",
    "\n",
    "The range of x should be between -2 to 10. $x ∈ [-2, 10]$\n",
    "\n"
   ]
  },
  {
   "cell_type": "code",
   "execution_count": null,
   "metadata": {
    "id": "7CagwKP_jhIQ"
   },
   "outputs": [],
   "source": [
    "# code here"
   ]
  },
  {
   "cell_type": "markdown",
   "metadata": {
    "id": "Jf14pxCfjiX1"
   },
   "source": [
    "### `Q-9:` Write a program implement Boradcasting Rule to check if two array can be added or not.\n",
    "Given tuples of shapes.\n",
    "```\n",
    "shape of a- (3,2,2)\n",
    "shape of b- (2,2)\n",
    "\n",
    "check_broadcast(a, b) -> return Boolean (True if can broadcasted, False other wise.)\n",
    "```"
   ]
  },
  {
   "cell_type": "code",
   "execution_count": null,
   "metadata": {
    "id": "qSKGG0Yajlc8"
   },
   "outputs": [],
   "source": [
    "# code here"
   ]
  }
 ],
 "metadata": {
  "colab": {
   "provenance": []
  },
  "kernelspec": {
   "display_name": "Python 3 (ipykernel)",
   "language": "python",
   "name": "python3"
  },
  "language_info": {
   "codemirror_mode": {
    "name": "ipython",
    "version": 3
   },
   "file_extension": ".py",
   "mimetype": "text/x-python",
   "name": "python",
   "nbconvert_exporter": "python",
   "pygments_lexer": "ipython3",
   "version": "3.12.3"
  }
 },
 "nbformat": 4,
 "nbformat_minor": 4
}
