{
 "cells": [
  {
   "cell_type": "code",
   "execution_count": 2,
   "metadata": {},
   "outputs": [],
   "source": [
    "import numpy as np"
   ]
  },
  {
   "cell_type": "markdown",
   "metadata": {
    "id": "J88qfqQEk_sT"
   },
   "source": [
    "###`Q-1:` Create a random 3x4 matrix with value between 0-100. And perform below tasks\n",
    "\n",
    "    i. Sort this matrix. np.sort()\n",
    "    ii. Sort this matrix based on values in 2nd column.\n",
    "    iii. Sort this matrix based on max value in each row.\n",
    "    iv. Sort based on elements value.\n"
   ]
  },
  {
   "cell_type": "markdown",
   "metadata": {
    "id": "xpOwOdhqlE9R"
   },
   "source": [
    "See examples:\n",
    "```\n",
    "arr =\n",
    "    [[92 90 74]\n",
    "    [ 6 63 93]\n",
    "    [15 93 96]\n",
    "    [70 60 48]]\n",
    "```\n",
    "```\n",
    "i. np.sort\n",
    "[[74 90 92]\n",
    " [ 6 63 93]\n",
    " [15 93 96]\n",
    " [48 60 70]]\n",
    "\n",
    "ii. based on 2nd column\n",
    "[[70 60 48]\n",
    " [ 6 63 93]\n",
    " [92 90 74]\n",
    " [15 93 96]]\n",
    "\n",
    "iii. based on row max- ascending\n",
    "[[15 93 96]\n",
    " [ 6 63 93]\n",
    " [92 90 74]\n",
    " [70 60 48]]\n",
    "\n",
    "iv. based on elements value\n",
    "[[ 6 15 48]\n",
    " [60 63 70]\n",
    " [74 90 92]\n",
    " [93 93 96]]\n",
    "\n",
    "```"
   ]
  },
  {
   "cell_type": "code",
   "execution_count": 3,
   "metadata": {
    "id": "Auy-guUwlALv"
   },
   "outputs": [
    {
     "data": {
      "text/plain": [
       "array([[ 9, 78, 66, 44],\n",
       "       [43, 86,  8, 70],\n",
       "       [20,  9, 53, 98]])"
      ]
     },
     "execution_count": 3,
     "metadata": {},
     "output_type": "execute_result"
    }
   ],
   "source": [
    "rng = np.random.default_rng(seed=42)\n",
    "arr = rng.integers(\n",
    "    low=0,\n",
    "    high=100,\n",
    "    endpoint=True,\n",
    "    dtype=np.int64,\n",
    "    size=(3, 4)\n",
    ")\n",
    "arr"
   ]
  },
  {
   "cell_type": "code",
   "execution_count": 4,
   "metadata": {},
   "outputs": [
    {
     "data": {
      "text/plain": [
       "array([[ 9, 44, 66, 78],\n",
       "       [ 8, 43, 70, 86],\n",
       "       [ 9, 20, 53, 98]])"
      ]
     },
     "execution_count": 4,
     "metadata": {},
     "output_type": "execute_result"
    }
   ],
   "source": [
    "np.sort(arr)"
   ]
  },
  {
   "cell_type": "code",
   "execution_count": 5,
   "metadata": {
    "scrolled": true
   },
   "outputs": [
    {
     "data": {
      "text/plain": [
       "\u001b[0;31mSignature:\u001b[0m       \u001b[0mnp\u001b[0m\u001b[0;34m.\u001b[0m\u001b[0msort\u001b[0m\u001b[0;34m(\u001b[0m\u001b[0ma\u001b[0m\u001b[0;34m,\u001b[0m \u001b[0maxis\u001b[0m\u001b[0;34m=\u001b[0m\u001b[0;34m-\u001b[0m\u001b[0;36m1\u001b[0m\u001b[0;34m,\u001b[0m \u001b[0mkind\u001b[0m\u001b[0;34m=\u001b[0m\u001b[0;32mNone\u001b[0m\u001b[0;34m,\u001b[0m \u001b[0morder\u001b[0m\u001b[0;34m=\u001b[0m\u001b[0;32mNone\u001b[0m\u001b[0;34m,\u001b[0m \u001b[0;34m*\u001b[0m\u001b[0;34m,\u001b[0m \u001b[0mstable\u001b[0m\u001b[0;34m=\u001b[0m\u001b[0;32mNone\u001b[0m\u001b[0;34m)\u001b[0m\u001b[0;34m\u001b[0m\u001b[0;34m\u001b[0m\u001b[0m\n",
       "\u001b[0;31mCall signature:\u001b[0m  \u001b[0mnp\u001b[0m\u001b[0;34m.\u001b[0m\u001b[0msort\u001b[0m\u001b[0;34m(\u001b[0m\u001b[0;34m*\u001b[0m\u001b[0margs\u001b[0m\u001b[0;34m,\u001b[0m \u001b[0;34m**\u001b[0m\u001b[0mkwargs\u001b[0m\u001b[0;34m)\u001b[0m\u001b[0;34m\u001b[0m\u001b[0;34m\u001b[0m\u001b[0m\n",
       "\u001b[0;31mType:\u001b[0m            _ArrayFunctionDispatcher\n",
       "\u001b[0;31mString form:\u001b[0m     <function sort at 0x7d49db400400>\n",
       "\u001b[0;31mFile:\u001b[0m            ~/Desktop/learn-numpy/venv/lib/python3.12/site-packages/numpy/_core/fromnumeric.py\n",
       "\u001b[0;31mDocstring:\u001b[0m      \n",
       "Return a sorted copy of an array.\n",
       "\n",
       "Parameters\n",
       "----------\n",
       "a : array_like\n",
       "    Array to be sorted.\n",
       "axis : int or None, optional\n",
       "    Axis along which to sort. If None, the array is flattened before\n",
       "    sorting. The default is -1, which sorts along the last axis.\n",
       "kind : {'quicksort', 'mergesort', 'heapsort', 'stable'}, optional\n",
       "    Sorting algorithm. The default is 'quicksort'. Note that both 'stable'\n",
       "    and 'mergesort' use timsort or radix sort under the covers and,\n",
       "    in general, the actual implementation will vary with data type.\n",
       "    The 'mergesort' option is retained for backwards compatibility.\n",
       "\n",
       "    .. versionchanged:: 1.15.0.\n",
       "       The 'stable' option was added.\n",
       "\n",
       "order : str or list of str, optional\n",
       "    When `a` is an array with fields defined, this argument specifies\n",
       "    which fields to compare first, second, etc.  A single field can\n",
       "    be specified as a string, and not all fields need be specified,\n",
       "    but unspecified fields will still be used, in the order in which\n",
       "    they come up in the dtype, to break ties.\n",
       "stable : bool, optional\n",
       "    Sort stability. If ``True``, the returned array will maintain\n",
       "    the relative order of ``a`` values which compare as equal.\n",
       "    If ``False`` or ``None``, this is not guaranteed. Internally,\n",
       "    this option selects ``kind='stable'``. Default: ``None``.\n",
       "\n",
       "    .. versionadded:: 2.0.0\n",
       "\n",
       "Returns\n",
       "-------\n",
       "sorted_array : ndarray\n",
       "    Array of the same type and shape as `a`.\n",
       "\n",
       "See Also\n",
       "--------\n",
       "ndarray.sort : Method to sort an array in-place.\n",
       "argsort : Indirect sort.\n",
       "lexsort : Indirect stable sort on multiple keys.\n",
       "searchsorted : Find elements in a sorted array.\n",
       "partition : Partial sort.\n",
       "\n",
       "Notes\n",
       "-----\n",
       "The various sorting algorithms are characterized by their average speed,\n",
       "worst case performance, work space size, and whether they are stable. A\n",
       "stable sort keeps items with the same key in the same relative\n",
       "order. The four algorithms implemented in NumPy have the following\n",
       "properties:\n",
       "\n",
       "=========== ======= ============= ============ ========\n",
       "   kind      speed   worst case    work space   stable\n",
       "=========== ======= ============= ============ ========\n",
       "'quicksort'    1     O(n^2)            0          no\n",
       "'heapsort'     3     O(n*log(n))       0          no\n",
       "'mergesort'    2     O(n*log(n))      ~n/2        yes\n",
       "'timsort'      2     O(n*log(n))      ~n/2        yes\n",
       "=========== ======= ============= ============ ========\n",
       "\n",
       ".. note:: The datatype determines which of 'mergesort' or 'timsort'\n",
       "   is actually used, even if 'mergesort' is specified. User selection\n",
       "   at a finer scale is not currently available.\n",
       "\n",
       "For performance, ``sort`` makes a temporary copy if needed to make the data\n",
       "`contiguous <https://numpy.org/doc/stable/glossary.html#term-contiguous>`_\n",
       "in memory along the sort axis. For even better performance and reduced\n",
       "memory consumption, ensure that the array is already contiguous along the\n",
       "sort axis.\n",
       "\n",
       "The sort order for complex numbers is lexicographic. If both the real\n",
       "and imaginary parts are non-nan then the order is determined by the\n",
       "real parts except when they are equal, in which case the order is\n",
       "determined by the imaginary parts.\n",
       "\n",
       "Previous to numpy 1.4.0 sorting real and complex arrays containing nan\n",
       "values led to undefined behaviour. In numpy versions >= 1.4.0 nan\n",
       "values are sorted to the end. The extended sort order is:\n",
       "\n",
       "  * Real: [R, nan]\n",
       "  * Complex: [R + Rj, R + nanj, nan + Rj, nan + nanj]\n",
       "\n",
       "where R is a non-nan real value. Complex values with the same nan\n",
       "placements are sorted according to the non-nan part if it exists.\n",
       "Non-nan values are sorted as before.\n",
       "\n",
       ".. versionadded:: 1.12.0\n",
       "\n",
       "quicksort has been changed to:\n",
       "`introsort <https://en.wikipedia.org/wiki/Introsort>`_.\n",
       "When sorting does not make enough progress it switches to\n",
       "`heapsort <https://en.wikipedia.org/wiki/Heapsort>`_.\n",
       "This implementation makes quicksort O(n*log(n)) in the worst case.\n",
       "\n",
       "'stable' automatically chooses the best stable sorting algorithm\n",
       "for the data type being sorted.\n",
       "It, along with 'mergesort' is currently mapped to\n",
       "`timsort <https://en.wikipedia.org/wiki/Timsort>`_\n",
       "or `radix sort <https://en.wikipedia.org/wiki/Radix_sort>`_\n",
       "depending on the data type.\n",
       "API forward compatibility currently limits the\n",
       "ability to select the implementation and it is hardwired for the different\n",
       "data types.\n",
       "\n",
       ".. versionadded:: 1.17.0\n",
       "\n",
       "Timsort is added for better performance on already or nearly\n",
       "sorted data. On random data timsort is almost identical to\n",
       "mergesort. It is now used for stable sort while quicksort is still the\n",
       "default sort if none is chosen. For timsort details, refer to\n",
       "`CPython listsort.txt\n",
       "<https://github.com/python/cpython/blob/3.7/Objects/listsort.txt>`_\n",
       "'mergesort' and 'stable' are mapped to radix sort for integer data types.\n",
       "Radix sort is an O(n) sort instead of O(n log n).\n",
       "\n",
       ".. versionchanged:: 1.18.0\n",
       "\n",
       "NaT now sorts to the end of arrays for consistency with NaN.\n",
       "\n",
       "Examples\n",
       "--------\n",
       ">>> import numpy as np\n",
       ">>> a = np.array([[1,4],[3,1]])\n",
       ">>> np.sort(a)                # sort along the last axis\n",
       "array([[1, 4],\n",
       "       [1, 3]])\n",
       ">>> np.sort(a, axis=None)     # sort the flattened array\n",
       "array([1, 1, 3, 4])\n",
       ">>> np.sort(a, axis=0)        # sort along the first axis\n",
       "array([[1, 1],\n",
       "       [3, 4]])\n",
       "\n",
       "Use the `order` keyword to specify a field to use when sorting a\n",
       "structured array:\n",
       "\n",
       ">>> dtype = [('name', 'S10'), ('height', float), ('age', int)]\n",
       ">>> values = [('Arthur', 1.8, 41), ('Lancelot', 1.9, 38),\n",
       "...           ('Galahad', 1.7, 38)]\n",
       ">>> a = np.array(values, dtype=dtype)       # create a structured array\n",
       ">>> np.sort(a, order='height')                        # doctest: +SKIP\n",
       "array([('Galahad', 1.7, 38), ('Arthur', 1.8, 41),\n",
       "       ('Lancelot', 1.8999999999999999, 38)],\n",
       "      dtype=[('name', '|S10'), ('height', '<f8'), ('age', '<i4')])\n",
       "\n",
       "Sort by age, then height if ages are equal:\n",
       "\n",
       ">>> np.sort(a, order=['age', 'height'])               # doctest: +SKIP\n",
       "array([('Galahad', 1.7, 38), ('Lancelot', 1.8999999999999999, 38),\n",
       "       ('Arthur', 1.8, 41)],\n",
       "      dtype=[('name', '|S10'), ('height', '<f8'), ('age', '<i4')])\n",
       "\u001b[0;31mClass docstring:\u001b[0m\n",
       "Class to wrap functions with checks for __array_function__ overrides.\n",
       "\n",
       "All arguments are required, and can only be passed by position.\n",
       "\n",
       "Parameters\n",
       "----------\n",
       "dispatcher : function or None\n",
       "    The dispatcher function that returns a single sequence-like object\n",
       "    of all arguments relevant.  It must have the same signature (except\n",
       "    the default values) as the actual implementation.\n",
       "    If ``None``, this is a ``like=`` dispatcher and the\n",
       "    ``_ArrayFunctionDispatcher`` must be called with ``like`` as the\n",
       "    first (additional and positional) argument.\n",
       "implementation : function\n",
       "    Function that implements the operation on NumPy arrays without\n",
       "    overrides.  Arguments passed calling the ``_ArrayFunctionDispatcher``\n",
       "    will be forwarded to this (and the ``dispatcher``) as if using\n",
       "    ``*args, **kwargs``.\n",
       "\n",
       "Attributes\n",
       "----------\n",
       "_implementation : function\n",
       "    The original implementation passed in."
      ]
     },
     "metadata": {},
     "output_type": "display_data"
    }
   ],
   "source": [
    "np.sort?"
   ]
  },
  {
   "cell_type": "code",
   "execution_count": 6,
   "metadata": {},
   "outputs": [
    {
     "data": {
      "text/plain": [
       "array([[20,  9, 53, 98],\n",
       "       [ 9, 78, 66, 44],\n",
       "       [43, 86,  8, 70]])"
      ]
     },
     "execution_count": 6,
     "metadata": {},
     "output_type": "execute_result"
    }
   ],
   "source": [
    "columns = arr[:, 1]\n",
    "arr[np.argsort(columns)]"
   ]
  },
  {
   "cell_type": "code",
   "execution_count": null,
   "metadata": {},
   "outputs": [],
   "source": []
  },
  {
   "cell_type": "code",
   "execution_count": null,
   "metadata": {},
   "outputs": [],
   "source": []
  },
  {
   "cell_type": "markdown",
   "metadata": {
    "id": "Jx_I3gx9lBay"
   },
   "source": [
    "###`Q-2:` There is an array of marks of 5 students in 4 subjects. Further you are asked to perform below task.\n",
    "    i. Add marks every student of an extra subject in the same array.\n",
    "    ii. Add two new students marks in respective 5 subjects.(one subject added in above task)\n",
    "    iii. Add extra column with sum of all subjects(5-subjects) marks\n",
    "    iv. Sort the array(non-ascending order) on total marks column--one added in above task. Show top 2 rows.\n",
    "\n",
    "Note: Change dimension of arrays during concatenation or appending if required."
   ]
  },
  {
   "cell_type": "markdown",
   "metadata": {
    "id": "lXF-CE6ylNIw"
   },
   "source": [
    "Given Array-\n",
    "```\n",
    "marks = [[13, 10,  9, 33],\n",
    "       [63, 46, 90, 42],\n",
    "       [39, 76, 13, 29],\n",
    "       [82,  9, 29, 78],\n",
    "       [67, 61, 59, 36]]\n",
    "\n",
    "extra_subject = [41, 87, 72, 36, 92]\n",
    "#Two extra students record-\n",
    "rec1 = [77, 83, 98, 95, 89]\n",
    "rec2 = [92, 71, 52, 61, 53]\n",
    "```"
   ]
  },
  {
   "cell_type": "code",
   "execution_count": 7,
   "metadata": {
    "id": "7YKsWO2olMkq"
   },
   "outputs": [
    {
     "data": {
      "text/plain": [
       "array([[13, 10,  9, 33],\n",
       "       [39, 76, 13, 29],\n",
       "       [82,  9, 29, 78],\n",
       "       [67, 61, 59, 36]])"
      ]
     },
     "execution_count": 7,
     "metadata": {},
     "output_type": "execute_result"
    }
   ],
   "source": [
    "marks = np.array(\n",
    "    [\n",
    "        [13, 10, 9, 33],\n",
    "        [39, 76, 13, 29],\n",
    "        [82, 9, 29, 78],\n",
    "        [67, 61, 59, 36]\n",
    "    ]\n",
    ")\n",
    "marks"
   ]
  },
  {
   "cell_type": "markdown",
   "metadata": {
    "id": "VmOyK_8klRqR"
   },
   "source": [
    "###`Q-3:` Find unique arrays from a 2D array column wise and row wise.\n",
    "```\n",
    "arr = np.array([[1,2,3,3,1,1],\n",
    "                [0,9,1,2,8,8],\n",
    "                [1,2,3,8,8,8],\n",
    "                [1,2,3,3,1,1]])\n",
    "```\n",
    "Expected Result-\n",
    "```\n",
    "Row Wise\n",
    "[[0 9 1 2 8 8]\n",
    " [1 2 3 3 1 1]\n",
    " [1 2 3 8 8 8]]\n",
    "\n",
    "Col Wise\n",
    "[[1 1 2 3 3]\n",
    " [0 8 9 1 2]\n",
    " [1 8 2 3 8]\n",
    " [1 1 2 3 3]]\n",
    "```"
   ]
  },
  {
   "cell_type": "code",
   "execution_count": null,
   "metadata": {
    "id": "LJl10VQrlU5q"
   },
   "outputs": [],
   "source": [
    "# code here"
   ]
  },
  {
   "cell_type": "markdown",
   "metadata": {
    "id": "RaXwVkywlWY2"
   },
   "source": [
    "###`Q-4:` Flip given 2-D array along both axes at the same time."
   ]
  },
  {
   "cell_type": "code",
   "execution_count": null,
   "metadata": {
    "id": "mN7-4G8Kleeq"
   },
   "outputs": [],
   "source": [
    "# code here"
   ]
  },
  {
   "cell_type": "markdown",
   "metadata": {
    "id": "X0S7BUNTlfoq"
   },
   "source": [
    "### `Q-5:` Get row numbers of NumPy array having element larger than X.\n",
    "```\n",
    "arr = [[1,2,3,4,5],\n",
    "      [10,-3,30,4,5],\n",
    "      [3,2,5,-4,5],\n",
    "      [9,7,3,6,5]]\n",
    "\n",
    "X = 6\n",
    "```"
   ]
  },
  {
   "cell_type": "code",
   "execution_count": null,
   "metadata": {
    "id": "bi8jRmWhlkBU"
   },
   "outputs": [],
   "source": [
    "# code here"
   ]
  },
  {
   "cell_type": "markdown",
   "metadata": {
    "id": "DSCQMo4mlnDG"
   },
   "source": [
    "### `Q-6:` How to convert an array of arrays into a flat 1d array?\n"
   ]
  },
  {
   "cell_type": "code",
   "execution_count": null,
   "metadata": {
    "id": "QZhSkUT2lsJW"
   },
   "outputs": [],
   "source": [
    "# These arrays are given.\n",
    "arr1 = np.arange(3)\n",
    "arr2 = np.arange(3,7)\n",
    "arr3 = np.arange(7,10)"
   ]
  },
  {
   "cell_type": "code",
   "execution_count": null,
   "metadata": {
    "id": "f42OXNrFls0I"
   },
   "outputs": [],
   "source": [
    "# code here"
   ]
  },
  {
   "cell_type": "markdown",
   "metadata": {
    "id": "A1J4oOVCluqO"
   },
   "source": [
    "### `Q-7:` You are given a array. You have to find the minimum and maximum array element and remove that from the array.\n",
    "\n",
    "```python\n",
    "import numpy as np\n",
    "\n",
    "np.random.seed(400)\n",
    "arr = np.random.randint(100, 1000, 200).reshape((1, 200))\n",
    "```"
   ]
  },
  {
   "cell_type": "code",
   "execution_count": null,
   "metadata": {
    "id": "c6kmgtUJlybZ"
   },
   "outputs": [],
   "source": [
    "# code here"
   ]
  },
  {
   "cell_type": "markdown",
   "metadata": {
    "id": "0dHN1sdnl0Jy"
   },
   "source": [
    "### `Q-8:` You are given an arrays. You have to limit this array's elements between 100 to 200. $arr ∈ [100, 700]$. So replace those values accordingly with the minimum and maximum value. Then sort the array and perform the cumulative sum of that array."
   ]
  },
  {
   "cell_type": "code",
   "execution_count": null,
   "metadata": {
    "id": "a3YF_E-Hlza7"
   },
   "outputs": [],
   "source": [
    "# code here"
   ]
  },
  {
   "cell_type": "markdown",
   "metadata": {
    "id": "cXj90Susl4-I"
   },
   "source": [
    "### `Q-9:` You are given a array ($arr ∈ [0, 1]$). First you have round off the elements upto 3 decimal places and compare that\n",
    "- 0th percentile == minimum value of the array\n",
    "- 100th percentile == maximum value of the array\n",
    "- also find the difference betwen 51th percenile and 50th percentile values"
   ]
  },
  {
   "cell_type": "code",
   "execution_count": null,
   "metadata": {
    "id": "SgBEHodgl7Lo"
   },
   "outputs": [],
   "source": [
    "# code here"
   ]
  }
 ],
 "metadata": {
  "colab": {
   "provenance": []
  },
  "kernelspec": {
   "display_name": "Python 3 (ipykernel)",
   "language": "python",
   "name": "python3"
  },
  "language_info": {
   "codemirror_mode": {
    "name": "ipython",
    "version": 3
   },
   "file_extension": ".py",
   "mimetype": "text/x-python",
   "name": "python",
   "nbconvert_exporter": "python",
   "pygments_lexer": "ipython3",
   "version": "3.12.3"
  }
 },
 "nbformat": 4,
 "nbformat_minor": 4
}
