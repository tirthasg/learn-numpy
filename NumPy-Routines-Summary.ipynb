{
 "cells": [
  {
   "cell_type": "markdown",
   "id": "3d32ca45-45e5-49bf-a2f9-1898933896e6",
   "metadata": {},
   "source": [
    "### Importing NumPy\n",
    "\n",
    "```python\n",
    "import numpy as np\n",
    "```\n",
    "\n",
    "### Array Creation Routines\n",
    "\n",
    "```python\n",
    "np.empty(shape, dtype, order)\n",
    "np.empty_like(prototype, dtype, order)\n",
    "\n",
    "np.zeros(shape, dtype, order)\n",
    "np.zeros_like(a, dtype, order)\n",
    "\n",
    "np.ones(shape, dtype, order)\n",
    "np.ones_like(a, dtype, order)\n",
    "\n",
    "np.full(shape, fill_value, dtype, order)\n",
    "np.full_like(a, fill_value, dtype, order)\n",
    "\n",
    "np.identity(n, dtype)\n",
    "np.eye(N, M, k, dtype, order)\n",
    "\n",
    "np.diag(v, k)\n",
    "np.diagflat(v, k)\n",
    "\n",
    "np.tri(N, M, k, dtype)\n",
    "np.tril(m, k)\n",
    "np.triu(m, k)\n",
    "\n",
    "np.vander(x, N, increasing)\n",
    "\n",
    "np.arange(start, stop, step, dtype)\n",
    "\n",
    "np.linspace(start, stop, num, endpoint, dtype, retstep)\n",
    "np.logspace(start, stop, num, endpoint, base, dtype)\n",
    "np.geomspace(start, stop, num, endpoint, dtype)\n",
    "\n",
    "np.meshgrid(*xi, copy, sparse, indexing)\n",
    "\n",
    "np.loadtxt(fname, comments, skiprows, usecols, max_rows, delimiter, converters, dtype, ndim)\n",
    "\n",
    "np.array(object, dtype, copy, order, ndim)\n",
    "\n",
    "np.fromfunction(function, shape, dtype)\n",
    "np.fromiter(iter, shape, count)\n",
    "np.fromstring(string, dtype, count, sep)\n",
    "```\n",
    "\n",
    "### Random Sampling\n",
    "\n",
    "```python\n",
    "rng = np.random.default_rng(seed)\n",
    "\n",
    "rng.integers(low, high, endpoint, size, dtype)\n",
    "rng.random(size, dtype)\n",
    "\n",
    "rng.uniform(low, high, size)\n",
    "rng.normal(loc, scale, size)\n",
    "\n",
    "rng.choice(a, size, shuffle, replace, p, axis)\n",
    "\n",
    "rng.shuffle(x, axis)\n",
    "rng.permutation(x, axis)\n",
    "rng.permuted(x, axis, out)\n",
    "```\n",
    "\n",
    "### Logic Functions\n",
    "\n",
    "```python\n",
    "np.any(a, axis, out)\n",
    "np.all(a, axis, out)\n",
    "\n",
    "np.logical_and(x1, x2, out) # x1 & x2\n",
    "np.logical_or(x1, x2, out) # x1 | x2\n",
    "np.logical_not(x, out) # ~x\n",
    "np.logical_xor(x1, x2, out) # x1 ^ x2\n",
    "\n",
    "np.greater(x1, x2, out) # x1 > x2\n",
    "np.greater_equal(x1, x2, out) # x1 >= x2\n",
    "\n",
    "np.less(x1, x2, out) # x1 < x2\n",
    "np.less_equal(x1, x2, out) # x1 <= x2\n",
    "\n",
    "np.equal(x1, x2, out) # x1 == x2\n",
    "np.not_equal(x1, x2, out) # x1 != x2\n",
    "\n",
    "np.isnan(x, out)\n",
    "np.isnat(x, out)\n",
    "\n",
    "np.isfinite(x, out)\n",
    "\n",
    "np.isinf(x, out)\n",
    "np.isposinf(x)\n",
    "np.isneginf(x)\n",
    "\n",
    "np.isclose(a, b, rtol, equal_nan)\n",
    "np.allclose(a, b, rtol, equal_nan)\n",
    "\n",
    "np.array_equal(a1, a2, equal_nan)\n",
    "np.array_equiv(a1, a2, equal_nan)\n",
    "```\n",
    "\n",
    "### Searching\n",
    "\n",
    "```python\n",
    "np.argmin(a, axis, out)\n",
    "np.nanargmin(a, axis, out)\n",
    "\n",
    "np.argmax(a, axis, out)\n",
    "np.nanargmax(a, axis, out)\n",
    "\n",
    "np.where(condition, x, y)\n",
    "np.argwhere(condition)\n",
    "\n",
    "np.nonzero(a)\n",
    "np.flatnonzero(a)\n",
    "\n",
    "np.searchsorted(a, v, side)\n",
    "```"
   ]
  },
  {
   "cell_type": "code",
   "execution_count": 16,
   "id": "3b07df9d-54ad-4bdc-9cca-60c07cfbee57",
   "metadata": {},
   "outputs": [],
   "source": [
    "import numpy as np"
   ]
  },
  {
   "cell_type": "code",
   "execution_count": 21,
   "id": "83f6c2d4-094f-49d9-ba93-c5239c0ebde2",
   "metadata": {
    "scrolled": true
   },
   "outputs": [
    {
     "data": {
      "text/plain": [
       "(array([1, 2, 3, 4]),)"
      ]
     },
     "execution_count": 21,
     "metadata": {},
     "output_type": "execute_result"
    }
   ],
   "source": [
    "np.where(np.arange(5) > 0)"
   ]
  },
  {
   "cell_type": "code",
   "execution_count": 22,
   "id": "4a0ad719-3255-4521-9a2b-217bdf704d60",
   "metadata": {},
   "outputs": [
    {
     "data": {
      "text/plain": [
       "array([[1],\n",
       "       [2],\n",
       "       [3],\n",
       "       [4]])"
      ]
     },
     "execution_count": 22,
     "metadata": {},
     "output_type": "execute_result"
    }
   ],
   "source": [
    "np.argwhere(np.arange(5) > 0)"
   ]
  },
  {
   "cell_type": "code",
   "execution_count": 24,
   "id": "33612c93-f41c-450e-b009-447a92d47dc3",
   "metadata": {},
   "outputs": [
    {
     "data": {
      "text/plain": [
       "(array([[1],\n",
       "        [2],\n",
       "        [3],\n",
       "        [4]]),\n",
       " array([1, 2, 3, 4]))"
      ]
     },
     "execution_count": 24,
     "metadata": {},
     "output_type": "execute_result"
    }
   ],
   "source": [
    "arr = np.arange(5)\n",
    "arr[np.argwhere(arr > 0)], arr[np.where(arr > 0)]"
   ]
  },
  {
   "cell_type": "code",
   "execution_count": 25,
   "id": "a3715f5e-35af-4286-86ea-043347648740",
   "metadata": {},
   "outputs": [
    {
     "data": {
      "text/plain": [
       "(array([1, 2, 3, 4]),)"
      ]
     },
     "execution_count": 25,
     "metadata": {},
     "output_type": "execute_result"
    }
   ],
   "source": [
    "np.nonzero(arr)"
   ]
  },
  {
   "cell_type": "code",
   "execution_count": 27,
   "id": "f9a66c1e-9a1f-47b6-b2bf-3118b310bc10",
   "metadata": {
    "scrolled": true
   },
   "outputs": [
    {
     "data": {
      "text/plain": [
       "array([1, 2, 3, 4])"
      ]
     },
     "execution_count": 27,
     "metadata": {},
     "output_type": "execute_result"
    }
   ],
   "source": [
    "np.flatnonzero(arr)"
   ]
  },
  {
   "cell_type": "code",
   "execution_count": 29,
   "id": "15c5fde5-acfa-4ae0-96da-02fc651ca9f5",
   "metadata": {},
   "outputs": [
    {
     "data": {
      "text/plain": [
       "array([ 6,  7,  8,  9, 10, 11, 12, 13, 14, 15, 16, 17, 18, 19])"
      ]
     },
     "execution_count": 29,
     "metadata": {},
     "output_type": "execute_result"
    }
   ],
   "source": [
    "arr = np.arange(20).reshape(4, 5)\n",
    "np.flatnonzero(arr > 5)"
   ]
  },
  {
   "cell_type": "code",
   "execution_count": 30,
   "id": "3e14f224-f69c-44c1-b0ca-a08c19476c58",
   "metadata": {},
   "outputs": [
    {
     "data": {
      "text/plain": [
       "(array([1, 1, 1, 1, 2, 2, 2, 2, 2, 3, 3, 3, 3, 3]),\n",
       " array([1, 2, 3, 4, 0, 1, 2, 3, 4, 0, 1, 2, 3, 4]))"
      ]
     },
     "execution_count": 30,
     "metadata": {},
     "output_type": "execute_result"
    }
   ],
   "source": [
    "np.nonzero(arr > 5)"
   ]
  },
  {
   "cell_type": "code",
   "execution_count": 31,
   "id": "44497ac2-15d4-410c-83cd-fd1882d060ea",
   "metadata": {},
   "outputs": [
    {
     "data": {
      "text/plain": [
       "(array([1, 1, 1, 1, 2, 2, 2, 2, 2, 3, 3, 3, 3, 3]),\n",
       " array([1, 2, 3, 4, 0, 1, 2, 3, 4, 0, 1, 2, 3, 4]))"
      ]
     },
     "execution_count": 31,
     "metadata": {},
     "output_type": "execute_result"
    }
   ],
   "source": [
    "np.where(arr > 5)"
   ]
  },
  {
   "cell_type": "code",
   "execution_count": 32,
   "id": "36e6f193-bebd-4d75-9321-40aa6959c1bd",
   "metadata": {},
   "outputs": [
    {
     "data": {
      "text/plain": [
       "array([[1, 1],\n",
       "       [1, 2],\n",
       "       [1, 3],\n",
       "       [1, 4],\n",
       "       [2, 0],\n",
       "       [2, 1],\n",
       "       [2, 2],\n",
       "       [2, 3],\n",
       "       [2, 4],\n",
       "       [3, 0],\n",
       "       [3, 1],\n",
       "       [3, 2],\n",
       "       [3, 3],\n",
       "       [3, 4]])"
      ]
     },
     "execution_count": 32,
     "metadata": {},
     "output_type": "execute_result"
    }
   ],
   "source": [
    "np.argwhere(arr > 5)"
   ]
  },
  {
   "cell_type": "code",
   "execution_count": null,
   "id": "1a604cd5-4214-4371-9df4-e5508ceac219",
   "metadata": {},
   "outputs": [],
   "source": []
  }
 ],
 "metadata": {
  "kernelspec": {
   "display_name": "Python 3 (ipykernel)",
   "language": "python",
   "name": "python3"
  },
  "language_info": {
   "codemirror_mode": {
    "name": "ipython",
    "version": 3
   },
   "file_extension": ".py",
   "mimetype": "text/x-python",
   "name": "python",
   "nbconvert_exporter": "python",
   "pygments_lexer": "ipython3",
   "version": "3.12.3"
  }
 },
 "nbformat": 4,
 "nbformat_minor": 5
}
