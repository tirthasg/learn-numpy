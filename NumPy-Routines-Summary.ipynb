{
 "cells": [
  {
   "cell_type": "markdown",
   "id": "3d32ca45-45e5-49bf-a2f9-1898933896e6",
   "metadata": {},
   "source": [
    "### Importing NumPy\n",
    "\n",
    "```python\n",
    "import numpy as np\n",
    "```\n",
    "\n",
    "### Array Creation Routines\n",
    "\n",
    "```python\n",
    "np.empty(shape, dtype)\n",
    "np.empty_like(prototype, dtype)\n",
    "\n",
    "np.zeros(shape, dtype)\n",
    "np.zeros_like(a, dtype)\n",
    "\n",
    "np.ones(shape, dtype)\n",
    "np.ones_like(a, dtype)\n",
    "\n",
    "np.full(shape, fill_value, dtype)\n",
    "np.full_like(a, fill_value, dtype)\n",
    "\n",
    "np.identity(n, dtype)\n",
    "np.eye(N, M, k, dtype, order)\n",
    "```"
   ]
  },
  {
   "cell_type": "code",
   "execution_count": null,
   "id": "c8e0bc88-4821-4ac0-b928-f975a9f244b0",
   "metadata": {},
   "outputs": [],
   "source": []
  }
 ],
 "metadata": {
  "kernelspec": {
   "display_name": "Python 3 (ipykernel)",
   "language": "python",
   "name": "python3"
  },
  "language_info": {
   "codemirror_mode": {
    "name": "ipython",
    "version": 3
   },
   "file_extension": ".py",
   "mimetype": "text/x-python",
   "name": "python",
   "nbconvert_exporter": "python",
   "pygments_lexer": "ipython3",
   "version": "3.12.3"
  }
 },
 "nbformat": 4,
 "nbformat_minor": 5
}
